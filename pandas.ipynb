{
 "cells": [
  {
   "cell_type": "markdown",
   "id": "d411a29b-910e-405f-b331-6ad1b7b71a0c",
   "metadata": {},
   "source": [
    "# PANDAS"
   ]
  },
  {
   "cell_type": "code",
   "execution_count": 1,
   "id": "d06d9535-7c23-4297-ae1c-0c71e02f93e9",
   "metadata": {},
   "outputs": [],
   "source": [
    "import pandas as pd"
   ]
  },
  {
   "cell_type": "markdown",
   "id": "28944f84-1ec7-4f58-aacd-8009b8b7c0a7",
   "metadata": {},
   "source": [
    "## Q.1 Create a dataset"
   ]
  },
  {
   "cell_type": "code",
   "execution_count": 11,
   "id": "a3d8a320-5352-4c2c-99ce-2e930eb27cdb",
   "metadata": {},
   "outputs": [],
   "source": [
    "data = {\n",
    "    \"Tid\" : [1, 2, 3, 4, 5, 6, 7, 8, 9, 10],\n",
    "    \"Refund\" : [\"Yes\", \"No\", \"No\", \"Yes\", \"No\", \"No\", \"Yes\", \"No\", \"No\", \"No\"],\n",
    "    \"Marital Status\" : [\"Single\", \"Married\", \"Single\", \"Married\", \"Divorced\", \"Married\", \"Divorced\", \"Single\", \"Married\", \"Single\"],\n",
    "    \"Taxable Income\" : [\"125K\", \"100K\", \"70K\", \"120K\", \"95K\", \"60K\", \"220K\", \"85K\", \"75K\", \"90K\"],\n",
    "    \"Cheat\" : [\"No\", \"No\", \"No\", \"No\", \"Yes\", \"No\", \"No\", \"Yes\", \"No\", \"Yes\"]\n",
    "}"
   ]
  },
  {
   "cell_type": "code",
   "execution_count": 17,
   "id": "9eacb2da-f1db-440c-861e-04d1308bfd14",
   "metadata": {},
   "outputs": [],
   "source": [
    "df = pd.DataFrame(data)"
   ]
  },
  {
   "cell_type": "code",
   "execution_count": 21,
   "id": "fd8bf04a-2126-452e-bcf5-6fdd17ec6547",
   "metadata": {},
   "outputs": [
    {
     "data": {
      "text/html": [
       "<div>\n",
       "<style scoped>\n",
       "    .dataframe tbody tr th:only-of-type {\n",
       "        vertical-align: middle;\n",
       "    }\n",
       "\n",
       "    .dataframe tbody tr th {\n",
       "        vertical-align: top;\n",
       "    }\n",
       "\n",
       "    .dataframe thead th {\n",
       "        text-align: right;\n",
       "    }\n",
       "</style>\n",
       "<table border=\"1\" class=\"dataframe\">\n",
       "  <thead>\n",
       "    <tr style=\"text-align: right;\">\n",
       "      <th></th>\n",
       "      <th>Tid</th>\n",
       "      <th>Refund</th>\n",
       "      <th>Marital Status</th>\n",
       "      <th>Taxable Income</th>\n",
       "      <th>Cheat</th>\n",
       "    </tr>\n",
       "  </thead>\n",
       "  <tbody>\n",
       "    <tr>\n",
       "      <th>0</th>\n",
       "      <td>1</td>\n",
       "      <td>Yes</td>\n",
       "      <td>Single</td>\n",
       "      <td>125K</td>\n",
       "      <td>No</td>\n",
       "    </tr>\n",
       "    <tr>\n",
       "      <th>1</th>\n",
       "      <td>2</td>\n",
       "      <td>No</td>\n",
       "      <td>Married</td>\n",
       "      <td>100K</td>\n",
       "      <td>No</td>\n",
       "    </tr>\n",
       "    <tr>\n",
       "      <th>2</th>\n",
       "      <td>3</td>\n",
       "      <td>No</td>\n",
       "      <td>Single</td>\n",
       "      <td>70K</td>\n",
       "      <td>No</td>\n",
       "    </tr>\n",
       "    <tr>\n",
       "      <th>3</th>\n",
       "      <td>4</td>\n",
       "      <td>Yes</td>\n",
       "      <td>Married</td>\n",
       "      <td>120K</td>\n",
       "      <td>No</td>\n",
       "    </tr>\n",
       "    <tr>\n",
       "      <th>4</th>\n",
       "      <td>5</td>\n",
       "      <td>No</td>\n",
       "      <td>Divorced</td>\n",
       "      <td>95K</td>\n",
       "      <td>Yes</td>\n",
       "    </tr>\n",
       "  </tbody>\n",
       "</table>\n",
       "</div>"
      ],
      "text/plain": [
       "   Tid Refund Marital Status Taxable Income Cheat\n",
       "0    1    Yes         Single           125K    No\n",
       "1    2     No        Married           100K    No\n",
       "2    3     No         Single            70K    No\n",
       "3    4    Yes        Married           120K    No\n",
       "4    5     No       Divorced            95K   Yes"
      ]
     },
     "execution_count": 21,
     "metadata": {},
     "output_type": "execute_result"
    }
   ],
   "source": [
    "df.head()"
   ]
  },
  {
   "cell_type": "markdown",
   "id": "8fe7f863-d307-4a26-8485-1c6b7cac5c70",
   "metadata": {},
   "source": [
    "## Q.2 Locate row 0, 4, 7 and 8 using DataFrame."
   ]
  },
  {
   "cell_type": "code",
   "execution_count": 24,
   "id": "fdc7c332-41ef-47ee-8137-e12c0cc13485",
   "metadata": {},
   "outputs": [
    {
     "name": "stdout",
     "output_type": "stream",
     "text": [
      "   Tid Refund Marital Status Taxable Income Cheat\n",
      "0    1    Yes         Single           125K    No\n",
      "4    5     No       Divorced            95K   Yes\n",
      "7    8     No         Single            85K   Yes\n",
      "8    9     No        Married            75K    No\n"
     ]
    }
   ],
   "source": [
    "print(df.loc[[0,4,7,8]])"
   ]
  },
  {
   "cell_type": "markdown",
   "id": "a32609d9-1256-4b3d-8f9c-de9523ba5452",
   "metadata": {},
   "source": [
    "## Q.3 Navigate the DataFrame and do the following task"
   ]
  },
  {
   "cell_type": "markdown",
   "id": "4f54973d-7190-407b-81e7-69ea9f549bc0",
   "metadata": {},
   "source": [
    "### 1. Select row from index 3 to 7. "
   ]
  },
  {
   "cell_type": "code",
   "execution_count": 28,
   "id": "e406c41b-aef3-40bc-9a04-b481b8102ea3",
   "metadata": {},
   "outputs": [
    {
     "name": "stdout",
     "output_type": "stream",
     "text": [
      "   Tid Refund Marital Status Taxable Income Cheat\n",
      "3    4    Yes        Married           120K    No\n",
      "4    5     No       Divorced            95K   Yes\n",
      "5    6     No        Married            60K    No\n",
      "6    7    Yes       Divorced           220K    No\n"
     ]
    }
   ],
   "source": [
    "print(df.iloc[3:7])"
   ]
  },
  {
   "cell_type": "markdown",
   "id": "3c3d2b46-6123-4d11-924c-4731b7cd4d46",
   "metadata": {},
   "source": [
    "### 2. Select row from index 4 to 8, and column 2 to 4. "
   ]
  },
  {
   "cell_type": "code",
   "execution_count": 31,
   "id": "d8f90960-c9aa-4094-b104-bd4337d45259",
   "metadata": {},
   "outputs": [
    {
     "name": "stdout",
     "output_type": "stream",
     "text": [
      "  Marital Status Taxable Income\n",
      "4       Divorced            95K\n",
      "5        Married            60K\n",
      "6       Divorced           220K\n",
      "7         Single            85K\n"
     ]
    }
   ],
   "source": [
    "print(df.iloc[4:8,2:4])"
   ]
  },
  {
   "cell_type": "markdown",
   "id": "f757a26a-acea-4221-a766-f3b174e70a46",
   "metadata": {},
   "source": [
    "### 3. Select all rows with column index 1 to 3 "
   ]
  },
  {
   "cell_type": "code",
   "execution_count": 36,
   "id": "da8c7b53-af5e-45c8-8054-5975868e2aac",
   "metadata": {},
   "outputs": [
    {
     "name": "stdout",
     "output_type": "stream",
     "text": [
      "  Refund Marital Status Taxable Income\n",
      "0    Yes         Single           125K\n",
      "1     No        Married           100K\n",
      "2     No         Single            70K\n",
      "3    Yes        Married           120K\n",
      "4     No       Divorced            95K\n",
      "5     No        Married            60K\n",
      "6    Yes       Divorced           220K\n",
      "7     No         Single            85K\n",
      "8     No        Married            75K\n",
      "9     No         Single            90K\n"
     ]
    }
   ],
   "source": [
    "print(df.iloc[:,1:4])"
   ]
  },
  {
   "cell_type": "markdown",
   "id": "cfa3828d-dced-401a-8c85-815e66f697a2",
   "metadata": {},
   "source": [
    "## Q.4 Read a csv file and display its first five rows."
   ]
  },
  {
   "cell_type": "code",
   "execution_count": 39,
   "id": "cb2068c9-cb39-40c2-9775-85c18c24ffd1",
   "metadata": {},
   "outputs": [
    {
     "data": {
      "text/html": [
       "<div>\n",
       "<style scoped>\n",
       "    .dataframe tbody tr th:only-of-type {\n",
       "        vertical-align: middle;\n",
       "    }\n",
       "\n",
       "    .dataframe tbody tr th {\n",
       "        vertical-align: top;\n",
       "    }\n",
       "\n",
       "    .dataframe thead th {\n",
       "        text-align: right;\n",
       "    }\n",
       "</style>\n",
       "<table border=\"1\" class=\"dataframe\">\n",
       "  <thead>\n",
       "    <tr style=\"text-align: right;\">\n",
       "      <th></th>\n",
       "      <th>Id</th>\n",
       "      <th>SepalLengthCm</th>\n",
       "      <th>SepalWidthCm</th>\n",
       "      <th>PetalLengthCm</th>\n",
       "      <th>PetalWidthCm</th>\n",
       "      <th>Species</th>\n",
       "    </tr>\n",
       "  </thead>\n",
       "  <tbody>\n",
       "    <tr>\n",
       "      <th>0</th>\n",
       "      <td>1</td>\n",
       "      <td>5.1</td>\n",
       "      <td>3.5</td>\n",
       "      <td>1.4</td>\n",
       "      <td>0.2</td>\n",
       "      <td>Iris-setosa</td>\n",
       "    </tr>\n",
       "    <tr>\n",
       "      <th>1</th>\n",
       "      <td>2</td>\n",
       "      <td>4.9</td>\n",
       "      <td>3.0</td>\n",
       "      <td>1.4</td>\n",
       "      <td>0.2</td>\n",
       "      <td>Iris-setosa</td>\n",
       "    </tr>\n",
       "    <tr>\n",
       "      <th>2</th>\n",
       "      <td>3</td>\n",
       "      <td>4.7</td>\n",
       "      <td>3.2</td>\n",
       "      <td>1.3</td>\n",
       "      <td>0.2</td>\n",
       "      <td>Iris-setosa</td>\n",
       "    </tr>\n",
       "    <tr>\n",
       "      <th>3</th>\n",
       "      <td>4</td>\n",
       "      <td>4.6</td>\n",
       "      <td>3.1</td>\n",
       "      <td>1.5</td>\n",
       "      <td>0.2</td>\n",
       "      <td>Iris-setosa</td>\n",
       "    </tr>\n",
       "    <tr>\n",
       "      <th>4</th>\n",
       "      <td>5</td>\n",
       "      <td>5.0</td>\n",
       "      <td>3.6</td>\n",
       "      <td>1.4</td>\n",
       "      <td>0.2</td>\n",
       "      <td>Iris-setosa</td>\n",
       "    </tr>\n",
       "  </tbody>\n",
       "</table>\n",
       "</div>"
      ],
      "text/plain": [
       "   Id  SepalLengthCm  SepalWidthCm  PetalLengthCm  PetalWidthCm      Species\n",
       "0   1            5.1           3.5            1.4           0.2  Iris-setosa\n",
       "1   2            4.9           3.0            1.4           0.2  Iris-setosa\n",
       "2   3            4.7           3.2            1.3           0.2  Iris-setosa\n",
       "3   4            4.6           3.1            1.5           0.2  Iris-setosa\n",
       "4   5            5.0           3.6            1.4           0.2  Iris-setosa"
      ]
     },
     "execution_count": 39,
     "metadata": {},
     "output_type": "execute_result"
    }
   ],
   "source": [
    "file_read = pd.read_csv('Iris.csv')\n",
    "file_read.head()"
   ]
  },
  {
   "cell_type": "markdown",
   "id": "5e5d2bac-fdf8-4606-8037-e6d135eb47cd",
   "metadata": {},
   "source": [
    "## Q.5 From the csv file delete row 4, and delete column 3. Display the result."
   ]
  },
  {
   "cell_type": "code",
   "execution_count": 44,
   "id": "4937f0aa-1790-49f0-a99b-824c8db18c15",
   "metadata": {},
   "outputs": [],
   "source": [
    "file_read = file_read.drop(index=4)\n",
    "file_read = file_read.drop(columns=file_read.columns[3])"
   ]
  },
  {
   "cell_type": "code",
   "execution_count": 46,
   "id": "e051ddab-f8a9-49bd-a054-b29bb4c2c1eb",
   "metadata": {},
   "outputs": [
    {
     "data": {
      "text/html": [
       "<div>\n",
       "<style scoped>\n",
       "    .dataframe tbody tr th:only-of-type {\n",
       "        vertical-align: middle;\n",
       "    }\n",
       "\n",
       "    .dataframe tbody tr th {\n",
       "        vertical-align: top;\n",
       "    }\n",
       "\n",
       "    .dataframe thead th {\n",
       "        text-align: right;\n",
       "    }\n",
       "</style>\n",
       "<table border=\"1\" class=\"dataframe\">\n",
       "  <thead>\n",
       "    <tr style=\"text-align: right;\">\n",
       "      <th></th>\n",
       "      <th>Id</th>\n",
       "      <th>SepalLengthCm</th>\n",
       "      <th>SepalWidthCm</th>\n",
       "      <th>PetalWidthCm</th>\n",
       "      <th>Species</th>\n",
       "    </tr>\n",
       "  </thead>\n",
       "  <tbody>\n",
       "    <tr>\n",
       "      <th>0</th>\n",
       "      <td>1</td>\n",
       "      <td>5.1</td>\n",
       "      <td>3.5</td>\n",
       "      <td>0.2</td>\n",
       "      <td>Iris-setosa</td>\n",
       "    </tr>\n",
       "    <tr>\n",
       "      <th>1</th>\n",
       "      <td>2</td>\n",
       "      <td>4.9</td>\n",
       "      <td>3.0</td>\n",
       "      <td>0.2</td>\n",
       "      <td>Iris-setosa</td>\n",
       "    </tr>\n",
       "    <tr>\n",
       "      <th>2</th>\n",
       "      <td>3</td>\n",
       "      <td>4.7</td>\n",
       "      <td>3.2</td>\n",
       "      <td>0.2</td>\n",
       "      <td>Iris-setosa</td>\n",
       "    </tr>\n",
       "    <tr>\n",
       "      <th>3</th>\n",
       "      <td>4</td>\n",
       "      <td>4.6</td>\n",
       "      <td>3.1</td>\n",
       "      <td>0.2</td>\n",
       "      <td>Iris-setosa</td>\n",
       "    </tr>\n",
       "    <tr>\n",
       "      <th>5</th>\n",
       "      <td>6</td>\n",
       "      <td>5.4</td>\n",
       "      <td>3.9</td>\n",
       "      <td>0.4</td>\n",
       "      <td>Iris-setosa</td>\n",
       "    </tr>\n",
       "  </tbody>\n",
       "</table>\n",
       "</div>"
      ],
      "text/plain": [
       "   Id  SepalLengthCm  SepalWidthCm  PetalWidthCm      Species\n",
       "0   1            5.1           3.5           0.2  Iris-setosa\n",
       "1   2            4.9           3.0           0.2  Iris-setosa\n",
       "2   3            4.7           3.2           0.2  Iris-setosa\n",
       "3   4            4.6           3.1           0.2  Iris-setosa\n",
       "5   6            5.4           3.9           0.4  Iris-setosa"
      ]
     },
     "execution_count": 46,
     "metadata": {},
     "output_type": "execute_result"
    }
   ],
   "source": [
    "file_read.head()"
   ]
  },
  {
   "cell_type": "markdown",
   "id": "818ec8c1-cf9f-4469-b25d-da0eca824b33",
   "metadata": {},
   "source": [
    "## Q.6 Create a sample dataset containing information about employees in a company"
   ]
  },
  {
   "cell_type": "code",
   "execution_count": 50,
   "id": "1f61b9b4-4de8-46cd-b504-88b5b8af3ce7",
   "metadata": {},
   "outputs": [],
   "source": [
    "Employee={\n",
    "    \"Employee_Id\" : [101,102,103,104,105],\n",
    "    \"Name\" : ['Alice','Bob','Charlie','Diana','Edward'],\n",
    "    \"Department\" : ['HR','IT','IT','Marketing','Sales'],\n",
    "    \"Age\" : [29,34,41,28,38],\n",
    "    \"Salary\" : [50000,70000,65000,55000,60000],\n",
    "    \"Years_of_Experience\" : [4,8,10,3,12],\n",
    "    \"Joining_Date\" : ['2020-03-15','2017-07-19','2013-06-01','2021-02-10','2010-11-25'],\n",
    "    \"Gender\" : ['Female','Male','Male','Female','Male'],\n",
    "    \"Bonus\" : [5000,7000,6000,4500,5000],\n",
    "    \"Rating\" : [4.5,4.0,3.8,4.7,3.5]\n",
    "}"
   ]
  },
  {
   "cell_type": "code",
   "execution_count": 52,
   "id": "a40cb860-45c4-43cc-ab16-ed080d25d681",
   "metadata": {},
   "outputs": [
    {
     "name": "stdout",
     "output_type": "stream",
     "text": [
      "   Employee_Id     Name Department  Age  Salary  Years_of_Experience  \\\n",
      "0          101    Alice         HR   29   50000                    4   \n",
      "1          102      Bob         IT   34   70000                    8   \n",
      "2          103  Charlie         IT   41   65000                   10   \n",
      "3          104    Diana  Marketing   28   55000                    3   \n",
      "4          105   Edward      Sales   38   60000                   12   \n",
      "\n",
      "  Joining_Date  Gender  Bonus  Rating  \n",
      "0   2020-03-15  Female   5000     4.5  \n",
      "1   2017-07-19    Male   7000     4.0  \n",
      "2   2013-06-01    Male   6000     3.8  \n",
      "3   2021-02-10  Female   4500     4.7  \n",
      "4   2010-11-25    Male   5000     3.5  \n"
     ]
    }
   ],
   "source": [
    "Employee_data = pd.DataFrame(Employee)\n",
    "print(Employee_data)"
   ]
  },
  {
   "cell_type": "markdown",
   "id": "d8780fc9-cb5c-4916-9d2f-f357dad4e8a5",
   "metadata": {},
   "source": [
    "### a) Shape of the DataFrame. "
   ]
  },
  {
   "cell_type": "code",
   "execution_count": 55,
   "id": "ee76e47a-893c-44a8-9481-1997d7ee9798",
   "metadata": {},
   "outputs": [
    {
     "name": "stdout",
     "output_type": "stream",
     "text": [
      "Shape of the DataFrame : \n",
      "(5, 10)\n"
     ]
    }
   ],
   "source": [
    "print(\"Shape of the DataFrame : \")\n",
    "print(Employee_data.shape)"
   ]
  },
  {
   "cell_type": "markdown",
   "id": "4b7424ab-1a5f-4ef7-8749-7273e70e6f8b",
   "metadata": {},
   "source": [
    "### b) Summary of the DataFrame that includes the data types and non-null counts for each column. "
   ]
  },
  {
   "cell_type": "code",
   "execution_count": 58,
   "id": "ae80c305-6440-4199-a7bc-d5fbf8f20ac0",
   "metadata": {},
   "outputs": [
    {
     "name": "stdout",
     "output_type": "stream",
     "text": [
      "Summary of the DataFrame : \n",
      "<class 'pandas.core.frame.DataFrame'>\n",
      "RangeIndex: 5 entries, 0 to 4\n",
      "Data columns (total 10 columns):\n",
      " #   Column               Non-Null Count  Dtype  \n",
      "---  ------               --------------  -----  \n",
      " 0   Employee_Id          5 non-null      int64  \n",
      " 1   Name                 5 non-null      object \n",
      " 2   Department           5 non-null      object \n",
      " 3   Age                  5 non-null      int64  \n",
      " 4   Salary               5 non-null      int64  \n",
      " 5   Years_of_Experience  5 non-null      int64  \n",
      " 6   Joining_Date         5 non-null      object \n",
      " 7   Gender               5 non-null      object \n",
      " 8   Bonus                5 non-null      int64  \n",
      " 9   Rating               5 non-null      float64\n",
      "dtypes: float64(1), int64(5), object(4)\n",
      "memory usage: 532.0+ bytes\n"
     ]
    }
   ],
   "source": [
    "print(\"Summary of the DataFrame : \")\n",
    "Employee_data.info()"
   ]
  },
  {
   "cell_type": "markdown",
   "id": "38829388-cff2-4afa-b345-4336e5b90861",
   "metadata": {},
   "source": [
    "### c) Generate descriptive statistics. "
   ]
  },
  {
   "cell_type": "code",
   "execution_count": 61,
   "id": "d1e83c97-0e80-485a-a340-8f84925cb657",
   "metadata": {},
   "outputs": [
    {
     "name": "stdout",
     "output_type": "stream",
     "text": [
      "descriptive statistics : \n",
      "       Employee_Id        Age       Salary  Years_of_Experience   Bonus  \\\n",
      "count     5.000000   5.000000      5.00000             5.000000     5.0   \n",
      "mean    103.000000  34.000000  60000.00000             7.400000  5500.0   \n",
      "std       1.581139   5.612486   7905.69415             3.847077  1000.0   \n",
      "min     101.000000  28.000000  50000.00000             3.000000  4500.0   \n",
      "25%     102.000000  29.000000  55000.00000             4.000000  5000.0   \n",
      "50%     103.000000  34.000000  60000.00000             8.000000  5000.0   \n",
      "75%     104.000000  38.000000  65000.00000            10.000000  6000.0   \n",
      "max     105.000000  41.000000  70000.00000            12.000000  7000.0   \n",
      "\n",
      "         Rating  \n",
      "count  5.000000  \n",
      "mean   4.100000  \n",
      "std    0.494975  \n",
      "min    3.500000  \n",
      "25%    3.800000  \n",
      "50%    4.000000  \n",
      "75%    4.500000  \n",
      "max    4.700000  \n"
     ]
    }
   ],
   "source": [
    "print(\"descriptive statistics : \")\n",
    "print(Employee_data.describe())"
   ]
  },
  {
   "cell_type": "markdown",
   "id": "a082f8c9-2c4d-47b2-a9cd-f8325244d56d",
   "metadata": {},
   "source": [
    "### d) Display the first 5 rows and last 3 rows of the dataset. "
   ]
  },
  {
   "cell_type": "code",
   "execution_count": 64,
   "id": "63949819-66c7-4df7-b538-dd04b605365e",
   "metadata": {},
   "outputs": [
    {
     "name": "stdout",
     "output_type": "stream",
     "text": [
      "the first 5 rows and last 3 rows of the dataset :\n",
      "   Employee_Id     Name Department  Age  Salary  Years_of_Experience  \\\n",
      "0          101    Alice         HR   29   50000                    4   \n",
      "1          102      Bob         IT   34   70000                    8   \n",
      "2          103  Charlie         IT   41   65000                   10   \n",
      "3          104    Diana  Marketing   28   55000                    3   \n",
      "4          105   Edward      Sales   38   60000                   12   \n",
      "\n",
      "  Joining_Date  Gender  Bonus  Rating  \n",
      "0   2020-03-15  Female   5000     4.5  \n",
      "1   2017-07-19    Male   7000     4.0  \n",
      "2   2013-06-01    Male   6000     3.8  \n",
      "3   2021-02-10  Female   4500     4.7  \n",
      "4   2010-11-25    Male   5000     3.5  \n",
      "   Employee_Id     Name Department  Age  Salary  Years_of_Experience  \\\n",
      "2          103  Charlie         IT   41   65000                   10   \n",
      "3          104    Diana  Marketing   28   55000                    3   \n",
      "4          105   Edward      Sales   38   60000                   12   \n",
      "\n",
      "  Joining_Date  Gender  Bonus  Rating  \n",
      "2   2013-06-01    Male   6000     3.8  \n",
      "3   2021-02-10  Female   4500     4.7  \n",
      "4   2010-11-25    Male   5000     3.5  \n"
     ]
    }
   ],
   "source": [
    "print(\"the first 5 rows and last 3 rows of the dataset :\")\n",
    "print(Employee_data.head())\n",
    "print(Employee_data.tail(3))"
   ]
  },
  {
   "cell_type": "markdown",
   "id": "8a84cea9-d493-4742-86cd-f07b5219da18",
   "metadata": {},
   "source": [
    "### e) Calculate the following statistics from the dataset: "
   ]
  },
  {
   "cell_type": "markdown",
   "id": "4951d0d8-ebda-4f2c-802b-7d077998d8de",
   "metadata": {},
   "source": [
    "#### i. The average salary of employees. "
   ]
  },
  {
   "cell_type": "code",
   "execution_count": 68,
   "id": "dbb15b8f-d305-4898-b679-56d0b2bf2c37",
   "metadata": {},
   "outputs": [
    {
     "name": "stdout",
     "output_type": "stream",
     "text": [
      "The average salary of employees : 60000.0\n"
     ]
    }
   ],
   "source": [
    "average_salary = Employee_data[\"Salary\"].mean()\n",
    "print(f\"The average salary of employees : {average_salary}\")"
   ]
  },
  {
   "cell_type": "markdown",
   "id": "620b6e01-1d39-4fb2-afdf-54aad99a3a10",
   "metadata": {},
   "source": [
    "#### ii. The total bonus paid to all employees. "
   ]
  },
  {
   "cell_type": "code",
   "execution_count": 71,
   "id": "7bf39175-9525-4e49-9ed1-3a62cf8e0ea8",
   "metadata": {},
   "outputs": [
    {
     "name": "stdout",
     "output_type": "stream",
     "text": [
      "The total bonus paid to all employees : 27500\n"
     ]
    }
   ],
   "source": [
    "total_bonus = Employee_data[\"Bonus\"].sum()\n",
    "print(f\"The total bonus paid to all employees : {total_bonus}\")"
   ]
  },
  {
   "cell_type": "markdown",
   "id": "834a2aeb-15aa-4d37-8bed-c3d5660466ad",
   "metadata": {},
   "source": [
    "#### iii. The youngest employee's age. "
   ]
  },
  {
   "cell_type": "code",
   "execution_count": 74,
   "id": "f4d03cbb-a0f4-4471-9ece-213349d15c85",
   "metadata": {},
   "outputs": [
    {
     "name": "stdout",
     "output_type": "stream",
     "text": [
      "The youngest employee's age : 28\n"
     ]
    }
   ],
   "source": [
    "youngest_employee = Employee_data[\"Age\"].min()\n",
    "print(f\"The youngest employee's age : {youngest_employee}\")"
   ]
  },
  {
   "cell_type": "markdown",
   "id": "2e0fe1e4-a45d-4eff-b496-b5dab1b2bd86",
   "metadata": {},
   "source": [
    "#### iv. The highest performance rating."
   ]
  },
  {
   "cell_type": "code",
   "execution_count": 79,
   "id": "bd85d776-cbb8-4f51-98b8-5ec7b1431e53",
   "metadata": {},
   "outputs": [
    {
     "name": "stdout",
     "output_type": "stream",
     "text": [
      "The highest performance rating : 4.7\n"
     ]
    }
   ],
   "source": [
    "highest_performance = Employee_data[\"Rating\"].max()\n",
    "print(f\"The highest performance rating : {highest_performance}\")"
   ]
  },
  {
   "cell_type": "markdown",
   "id": "7beccb6a-bd85-42b6-a3b1-b7b636ac78d8",
   "metadata": {},
   "source": [
    "### f) Sort the DataFrame by the Salary column in descending order. "
   ]
  },
  {
   "cell_type": "code",
   "execution_count": 82,
   "id": "644811a1-d369-43f8-b0ec-560006ea2258",
   "metadata": {},
   "outputs": [
    {
     "name": "stdout",
     "output_type": "stream",
     "text": [
      "Sorted dataframe by salary :    Employee_Id     Name Department  Age  Salary  Years_of_Experience  \\\n",
      "1          102      Bob         IT   34   70000                    8   \n",
      "2          103  Charlie         IT   41   65000                   10   \n",
      "4          105   Edward      Sales   38   60000                   12   \n",
      "3          104    Diana  Marketing   28   55000                    3   \n",
      "0          101    Alice         HR   29   50000                    4   \n",
      "\n",
      "  Joining_Date  Gender  Bonus  Rating  \n",
      "1   2017-07-19    Male   7000     4.0  \n",
      "2   2013-06-01    Male   6000     3.8  \n",
      "4   2010-11-25    Male   5000     3.5  \n",
      "3   2021-02-10  Female   4500     4.7  \n",
      "0   2020-03-15  Female   5000     4.5  \n"
     ]
    }
   ],
   "source": [
    "sort_salary = Employee_data.sort_values(by=\"Salary\",ascending=False)\n",
    "print(f\"Sorted dataframe by salary : {sort_salary}\")"
   ]
  },
  {
   "cell_type": "markdown",
   "id": "993c1b21-7ed4-4f7c-96b5-11b2e8ebd3e7",
   "metadata": {},
   "source": [
    "### g) Add a new column that categorizes employees based on their performance rating: "
   ]
  },
  {
   "cell_type": "markdown",
   "id": "2dd21e77-6913-4108-bb06-7234de1f19a5",
   "metadata": {},
   "source": [
    "#### i. Excellent for ratings >= 4.5\n",
    "#### ii. Good for ratings >= 4.0 but < 4.5\n",
    "#### iii. Average for ratings < 4.0 "
   ]
  },
  {
   "cell_type": "code",
   "execution_count": 85,
   "id": "e3bd1995-93bf-4baf-bf91-16735499ad7a",
   "metadata": {},
   "outputs": [
    {
     "name": "stdout",
     "output_type": "stream",
     "text": [
      "   Employee_Id     Name Department  Age  Salary  Years_of_Experience  \\\n",
      "0          101    Alice         HR   29   50000                    4   \n",
      "1          102      Bob         IT   34   70000                    8   \n",
      "2          103  Charlie         IT   41   65000                   10   \n",
      "3          104    Diana  Marketing   28   55000                    3   \n",
      "4          105   Edward      Sales   38   60000                   12   \n",
      "\n",
      "  Joining_Date  Gender  Bonus  Rating Performance  \n",
      "0   2020-03-15  Female   5000     4.5   Excellent  \n",
      "1   2017-07-19    Male   7000     4.0        Good  \n",
      "2   2013-06-01    Male   6000     3.8     Average  \n",
      "3   2021-02-10  Female   4500     4.7   Excellent  \n",
      "4   2010-11-25    Male   5000     3.5     Average  \n"
     ]
    }
   ],
   "source": [
    "def rating_categorized(rating):\n",
    "    if(rating >= 4.5):\n",
    "        return \"Excellent\"\n",
    "    elif 4 <= rating < 4.5:\n",
    "        return \"Good\"\n",
    "    else:\n",
    "        return \"Average\"\n",
    "Employee_data[\"Performance\"] = Employee_data[\"Rating\"].apply(rating_categorized)\n",
    "print(Employee_data)  "
   ]
  },
  {
   "cell_type": "markdown",
   "id": "1e02d35f-84c8-4ab0-84d3-8c90fe086f0c",
   "metadata": {},
   "source": [
    "### h) Identify missing values in the DataFrame"
   ]
  },
  {
   "cell_type": "code",
   "execution_count": 90,
   "id": "24630ac2-1ff1-4677-b876-f6f6e6efa185",
   "metadata": {},
   "outputs": [
    {
     "name": "stdout",
     "output_type": "stream",
     "text": [
      "   Employee_Id   Name  Department    Age  Salary  Years_of_Experience  \\\n",
      "0        False  False       False  False   False                False   \n",
      "1        False  False       False  False   False                False   \n",
      "2        False  False       False  False   False                False   \n",
      "3        False  False       False  False   False                False   \n",
      "4        False  False       False  False   False                False   \n",
      "\n",
      "   Joining_Date  Gender  Bonus  Rating  Performance  \n",
      "0         False   False  False   False        False  \n",
      "1         False   False  False   False        False  \n",
      "2         False   False  False   False        False  \n",
      "3         False   False  False   False        False  \n",
      "4         False   False  False   False        False  \n"
     ]
    }
   ],
   "source": [
    "print(Employee_data.isnull())"
   ]
  },
  {
   "cell_type": "markdown",
   "id": "04a390f1-c763-416e-a351-5746224ddba7",
   "metadata": {},
   "source": [
    "### i) Rename the Employee_ID column to ID. "
   ]
  },
  {
   "cell_type": "code",
   "execution_count": 93,
   "id": "e2316cde-4b6a-4047-9363-cc5c76213227",
   "metadata": {},
   "outputs": [
    {
     "name": "stdout",
     "output_type": "stream",
     "text": [
      "    ID     Name Department  Age  Salary  Years_of_Experience Joining_Date  \\\n",
      "0  101    Alice         HR   29   50000                    4   2020-03-15   \n",
      "1  102      Bob         IT   34   70000                    8   2017-07-19   \n",
      "2  103  Charlie         IT   41   65000                   10   2013-06-01   \n",
      "3  104    Diana  Marketing   28   55000                    3   2021-02-10   \n",
      "4  105   Edward      Sales   38   60000                   12   2010-11-25   \n",
      "\n",
      "   Gender  Bonus  Rating Performance  \n",
      "0  Female   5000     4.5   Excellent  \n",
      "1    Male   7000     4.0        Good  \n",
      "2    Male   6000     3.8     Average  \n",
      "3  Female   4500     4.7   Excellent  \n",
      "4    Male   5000     3.5     Average  \n"
     ]
    }
   ],
   "source": [
    "Employee_data.rename(columns={\"Employee_Id\":\"ID\"},inplace=True)\n",
    "print(Employee_data)"
   ]
  },
  {
   "cell_type": "markdown",
   "id": "8cbddeb1-2106-424c-8a8f-bce234a235c2",
   "metadata": {},
   "source": [
    "### j) Find all employees who: "
   ]
  },
  {
   "cell_type": "markdown",
   "id": "5c8deb4f-9609-4007-95fd-8a872d6de038",
   "metadata": {},
   "source": [
    "#### i. Have more than 5 years of experience.\n",
    "#### ii. Belong to the IT department. "
   ]
  },
  {
   "cell_type": "code",
   "execution_count": 99,
   "id": "bba25f89-3e33-4a94-b27c-3836b15076c4",
   "metadata": {},
   "outputs": [
    {
     "name": "stdout",
     "output_type": "stream",
     "text": [
      "    ID     Name Department  Age  Salary  Years_of_Experience Joining_Date  \\\n",
      "1  102      Bob         IT   34   70000                    8   2017-07-19   \n",
      "2  103  Charlie         IT   41   65000                   10   2013-06-01   \n",
      "4  105   Edward      Sales   38   60000                   12   2010-11-25   \n",
      "\n",
      "  Gender  Bonus  Rating Performance  \n",
      "1   Male   7000     4.0        Good  \n",
      "2   Male   6000     3.8     Average  \n",
      "4   Male   5000     3.5     Average  \n"
     ]
    }
   ],
   "source": [
    "Experience = Employee_data[Employee_data[\"Years_of_Experience\"]>5]\n",
    "print(Experience)"
   ]
  },
  {
   "cell_type": "code",
   "execution_count": 101,
   "id": "d8c49d64-b7e0-4a91-bd0b-ca4f1993fb83",
   "metadata": {},
   "outputs": [
    {
     "name": "stdout",
     "output_type": "stream",
     "text": [
      "    ID     Name Department  Age  Salary  Years_of_Experience Joining_Date  \\\n",
      "1  102      Bob         IT   34   70000                    8   2017-07-19   \n",
      "2  103  Charlie         IT   41   65000                   10   2013-06-01   \n",
      "\n",
      "  Gender  Bonus  Rating Performance  \n",
      "1   Male   7000     4.0        Good  \n",
      "2   Male   6000     3.8     Average  \n"
     ]
    }
   ],
   "source": [
    "IT_department = Employee_data[Employee_data[\"Department\"] == \"IT\"]\n",
    "print(IT_department)"
   ]
  },
  {
   "cell_type": "markdown",
   "id": "10cdbdca-4751-4622-9ae8-1a5dee0728e3",
   "metadata": {},
   "source": [
    "### k) Modify the dataset by adding a new column, Tax, which deducts 10% of the Salary. "
   ]
  },
  {
   "cell_type": "code",
   "execution_count": 106,
   "id": "945647a8-b7ad-46ad-ab08-859f36f46cae",
   "metadata": {},
   "outputs": [
    {
     "name": "stdout",
     "output_type": "stream",
     "text": [
      "    ID     Name Department  Age  Salary  Years_of_Experience Joining_Date  \\\n",
      "0  101    Alice         HR   29   50000                    4   2020-03-15   \n",
      "1  102      Bob         IT   34   70000                    8   2017-07-19   \n",
      "2  103  Charlie         IT   41   65000                   10   2013-06-01   \n",
      "3  104    Diana  Marketing   28   55000                    3   2021-02-10   \n",
      "4  105   Edward      Sales   38   60000                   12   2010-11-25   \n",
      "\n",
      "   Gender  Bonus  Rating Performance     Tax  \n",
      "0  Female   5000     4.5   Excellent  5000.0  \n",
      "1    Male   7000     4.0        Good  7000.0  \n",
      "2    Male   6000     3.8     Average  6500.0  \n",
      "3  Female   4500     4.7   Excellent  5500.0  \n",
      "4    Male   5000     3.5     Average  6000.0  \n"
     ]
    }
   ],
   "source": [
    "def deduct_salary(Salary):\n",
    "        return (Salary*(1/10))\n",
    "Employee_data[\"Tax\"] = Employee_data[\"Salary\"].apply(deduct_salary)\n",
    "print(Employee_data)"
   ]
  },
  {
   "cell_type": "markdown",
   "id": "8cf305a9-f338-4013-be41-ead52fecbfc2",
   "metadata": {},
   "source": [
    "### l) Save the modified DataFrameto a new CSV file. "
   ]
  },
  {
   "cell_type": "code",
   "execution_count": 109,
   "id": "4d792656-3749-4966-b902-eb9e89cefa90",
   "metadata": {},
   "outputs": [],
   "source": [
    "Employee_data.to_csv(\"new.csv\")"
   ]
  },
  {
   "cell_type": "code",
   "execution_count": null,
   "id": "656a7d2e-0d7d-4b7e-90c0-3f443a36cf67",
   "metadata": {},
   "outputs": [],
   "source": []
  }
 ],
 "metadata": {
  "kernelspec": {
   "display_name": "Python 3 (ipykernel)",
   "language": "python",
   "name": "python3"
  },
  "language_info": {
   "codemirror_mode": {
    "name": "ipython",
    "version": 3
   },
   "file_extension": ".py",
   "mimetype": "text/x-python",
   "name": "python",
   "nbconvert_exporter": "python",
   "pygments_lexer": "ipython3",
   "version": "3.12.7"
  }
 },
 "nbformat": 4,
 "nbformat_minor": 5
}
