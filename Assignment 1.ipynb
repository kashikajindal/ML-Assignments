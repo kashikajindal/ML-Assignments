{
 "cells": [
  {
   "cell_type": "markdown",
   "id": "bad71e6a-b44d-43ec-9c23-4af3d1b19702",
   "metadata": {},
   "source": [
    "#  Q1: Basic NumPy Array"
   ]
  },
  {
   "cell_type": "code",
   "execution_count": 2,
   "id": "1a71a587-d442-4975-8bba-991ac517929e",
   "metadata": {},
   "outputs": [],
   "source": [
    "import numpy as np\n",
    "from collections import Counter"
   ]
  },
  {
   "cell_type": "markdown",
   "id": "000090c6-0a29-4979-8d08-28381b5248d4",
   "metadata": {},
   "source": [
    "## (a) Reverse the array"
   ]
  },
  {
   "cell_type": "code",
   "execution_count": 4,
   "id": "8e67833b-9af8-4d36-94d7-80bdfa5542f9",
   "metadata": {},
   "outputs": [
    {
     "name": "stdout",
     "output_type": "stream",
     "text": [
      "[5 4 6 3 2 1]\n"
     ]
    }
   ],
   "source": [
    "arr = np.array([1, 2, 3, 6, 4, 5])\n",
    "reversed_arr = arr[::-1]\n",
    "print(reversed_arr)"
   ]
  },
  {
   "cell_type": "markdown",
   "id": "1195353a-8cfd-4615-be65-914a39e0773a",
   "metadata": {},
   "source": [
    "## (b) Flatten a 2D array"
   ]
  },
  {
   "cell_type": "code",
   "execution_count": 6,
   "id": "710ff61f-0636-40ce-a548-710e319d15b5",
   "metadata": {},
   "outputs": [
    {
     "name": "stdout",
     "output_type": "stream",
     "text": [
      "[1 2 3 2 4 5 1 2 3]\n",
      "[1 2 3 2 4 5 1 2 3]\n"
     ]
    }
   ],
   "source": [
    "array1 = np.array([[1, 2, 3], [2, 4, 5], [1, 2, 3]])\n",
    "flat1 = array1.flatten()   \n",
    "flat2 = array1.ravel()       \n",
    "print(flat1)\n",
    "print(flat2)"
   ]
  },
  {
   "cell_type": "markdown",
   "id": "9f39cf58-e73f-42f3-8ae0-39e1691a5675",
   "metadata": {},
   "source": [
    "## (c) Compare two arrays"
   ]
  },
  {
   "cell_type": "code",
   "execution_count": 8,
   "id": "584e48ff-e13e-4523-923b-c1a3abd0d4c4",
   "metadata": {},
   "outputs": [
    {
     "name": "stdout",
     "output_type": "stream",
     "text": [
      "True\n"
     ]
    }
   ],
   "source": [
    "arr1 = np.array([[1, 2], [3, 4]])\n",
    "arr2 = np.array([[1, 2], [3, 4]])\n",
    "comparison = np.array_equal(arr1, arr2)\n",
    "print(comparison)"
   ]
  },
  {
   "cell_type": "markdown",
   "id": "738c2bd8-b4b3-452b-91b9-45af08ab974d",
   "metadata": {},
   "source": [
    "## (d) Most frequent value & indices"
   ]
  },
  {
   "cell_type": "code",
   "execution_count": 10,
   "id": "40f8de9f-1a0e-4b4d-8bc5-dd4c45cfa9e2",
   "metadata": {},
   "outputs": [
    {
     "name": "stdout",
     "output_type": "stream",
     "text": [
      "1 (array([0, 5, 7, 8, 9], dtype=int64),)\n",
      "1 (array([0, 1, 2], dtype=int64),)\n"
     ]
    }
   ],
   "source": [
    "x = np.array([1, 2, 3, 4, 5, 1, 2, 1, 1, 1])\n",
    "val_x = np.bincount(x).argmax()\n",
    "indices_x = np.where(x == val_x)\n",
    "print(val_x, indices_x)\n",
    "\n",
    "y = np.array([1, 1, 1, 2, 3, 4, 2, 4, 3, 3])\n",
    "val_y = np.bincount(y).argmax()\n",
    "indices_y = np.where(y == val_y)\n",
    "print(val_y, indices_y)"
   ]
  },
  {
   "cell_type": "markdown",
   "id": "9b282e92-95b7-4652-8444-0b0782846842",
   "metadata": {},
   "source": [
    "## (e) For matrix: gfg"
   ]
  },
  {
   "cell_type": "code",
   "execution_count": 12,
   "id": "09e6d8b1-4ec9-4d73-96f5-9f1b538c60f9",
   "metadata": {},
   "outputs": [
    {
     "name": "stdout",
     "output_type": "stream",
     "text": [
      "45\n",
      "[[14]\n",
      " [16]\n",
      " [15]]\n",
      "[[20  9 16]]\n"
     ]
    }
   ],
   "source": [
    "gfg = np.matrix('[4, 1, 9; 12, 3, 1; 4, 5, 6]')\n",
    "sum_all = np.sum(gfg)\n",
    "row_sum = np.sum(gfg, axis=1)\n",
    "col_sum = np.sum(gfg, axis=0)\n",
    "print(sum_all)\n",
    "print(row_sum)\n",
    "print(col_sum)"
   ]
  },
  {
   "cell_type": "markdown",
   "id": "04fab046-6e7a-43f2-a099-b1c21955663b",
   "metadata": {},
   "source": [
    "## (f) Matrix calculations"
   ]
  },
  {
   "cell_type": "code",
   "execution_count": 14,
   "id": "d25a5c9d-aa31-4c84-9761-ea9a93a1d9da",
   "metadata": {},
   "outputs": [
    {
     "name": "stdout",
     "output_type": "stream",
     "text": [
      "176\n",
      "[98.16835147 28.097044   49.73460452]\n",
      "[[ 0.4574917   0.34637121 -0.15017693]\n",
      " [ 0.28447814 -0.72784061 -0.4852124 ]\n",
      " [ 0.84248058  0.59184038  0.8614034 ]]\n",
      "[[ 0.02404141 -0.00911212 -0.00444671]\n",
      " [-0.01667882  0.02966905  0.0024785 ]\n",
      " [ 0.00631287 -0.01603732  0.01217379]]\n",
      "137180.0000000001\n"
     ]
    }
   ],
   "source": [
    "n_array = np.array([[55, 25, 15],[30, 44, 2],[11, 45, 77]])\n",
    "\n",
    "# i. Diagonal sum\n",
    "diag_sum = np.trace(n_array)\n",
    "print(diag_sum)\n",
    "\n",
    "# ii. Eigenvalues\n",
    "eig_vals = np.linalg.eigvals(n_array)\n",
    "print(eig_vals)\n",
    "\n",
    "# iii. Eigenvectors\n",
    "eig_vals2, eig_vecs = np.linalg.eig(n_array)\n",
    "print(eig_vecs)\n",
    "\n",
    "# iv. Inverse\n",
    "inv_matrix = np.linalg.inv(n_array)\n",
    "print(inv_matrix)\n",
    "\n",
    "# v. Determinant\n",
    "det = np.linalg.det(n_array)\n",
    "print(det)"
   ]
  },
  {
   "cell_type": "markdown",
   "id": "ceb53ee0-c9be-43f1-b2aa-d80f92f76f6b",
   "metadata": {},
   "source": [
    "## (g) Matrix multiplication & covariance"
   ]
  },
  {
   "cell_type": "code",
   "execution_count": 16,
   "id": "16ef1e6c-9f84-40a3-a1cb-30db0ac84727",
   "metadata": {},
   "outputs": [
    {
     "name": "stdout",
     "output_type": "stream",
     "text": [
      "[[16 19]\n",
      " [26 31]]\n",
      "[[0.5 0.5 1.  1. ]\n",
      " [0.5 0.5 1.  1. ]\n",
      " [1.  1.  2.  2. ]\n",
      " [1.  1.  2.  2. ]]\n",
      "[[16 19  5]\n",
      " [26 31  8]\n",
      " [46 55 14]]\n",
      "[[ 2.33333333  2.33333333 -2.66666667 -3.5       ]\n",
      " [ 2.33333333  2.33333333 -2.66666667 -3.5       ]\n",
      " [-2.66666667 -2.66666667  4.33333333  5.5       ]\n",
      " [-3.5        -3.5         5.5         7.        ]]\n"
     ]
    }
   ],
   "source": [
    "# i\n",
    "p1 = np.array([[1, 2], [2, 3]])\n",
    "q1 = np.array([[4, 5], [6, 7]])\n",
    "product1 = np.dot(p1, q1)\n",
    "cov1 = np.cov(p1.T, q1.T)\n",
    "print(product1)\n",
    "print(cov1)\n",
    "\n",
    "# ii\n",
    "p2 = np.array([[1, 2], [2, 3], [4, 5]])\n",
    "q2 = np.array([[4, 5, 1], [6, 7, 2]])\n",
    "product2 = np.dot(p2, q2)\n",
    "cov2 = np.cov(p2.T, q2)\n",
    "print(product2)\n",
    "print(cov2)"
   ]
  },
  {
   "cell_type": "markdown",
   "id": "001839b1-434c-46b2-89d4-3966c75f651b",
   "metadata": {},
   "source": [
    "## (h) Inner, outer, cartesian products"
   ]
  },
  {
   "cell_type": "code",
   "execution_count": 18,
   "id": "2b524899-2b1c-4c20-9016-72e65b936e65",
   "metadata": {},
   "outputs": [
    {
     "name": "stdout",
     "output_type": "stream",
     "text": [
      "[[17 52]\n",
      " [13 62]]\n",
      "[[ 2 10  0 10 20  6]\n",
      " [ 3 15  0 15 30  9]\n",
      " [ 4 20  0 20 40 12]\n",
      " [ 3 15  0 15 30  9]\n",
      " [ 2 10  0 10 20  6]\n",
      " [ 9 45  0 45 90 27]]\n",
      "[[ 2  1]\n",
      " [ 2  5]\n",
      " [ 2  0]\n",
      " [ 2  5]\n",
      " [ 2 10]\n",
      " [ 2  3]\n",
      " [ 3  1]\n",
      " [ 3  5]\n",
      " [ 3  0]\n",
      " [ 3  5]\n",
      " [ 3 10]\n",
      " [ 3  3]\n",
      " [ 4  1]\n",
      " [ 4  5]\n",
      " [ 4  0]\n",
      " [ 4  5]\n",
      " [ 4 10]\n",
      " [ 4  3]\n",
      " [ 3  1]\n",
      " [ 3  5]\n",
      " [ 3  0]\n",
      " [ 3  5]\n",
      " [ 3 10]\n",
      " [ 3  3]\n",
      " [ 2  1]\n",
      " [ 2  5]\n",
      " [ 2  0]\n",
      " [ 2  5]\n",
      " [ 2 10]\n",
      " [ 2  3]\n",
      " [ 9  1]\n",
      " [ 9  5]\n",
      " [ 9  0]\n",
      " [ 9  5]\n",
      " [ 9 10]\n",
      " [ 9  3]]\n"
     ]
    }
   ],
   "source": [
    "x = np.array([[2, 3, 4], [3, 2, 9]])\n",
    "y = np.array([[1, 5, 0], [5, 10, 3]])\n",
    "\n",
    "inner = np.inner(x, y)\n",
    "outer = np.outer(x.flatten(), y.flatten())\n",
    "\n",
    "cartesian = np.array(np.meshgrid(x.flatten(), y.flatten())).T.reshape(-1, 2)\n",
    "\n",
    "print(inner)\n",
    "print(outer)\n",
    "print(cartesian)"
   ]
  },
  {
   "cell_type": "markdown",
   "id": "bb9fb7b1-aae9-4544-a0ec-d126408ab185",
   "metadata": {},
   "source": [
    "# Q2: NumPy Mathematics & Stats"
   ]
  },
  {
   "cell_type": "markdown",
   "id": "e8b42e35-7772-480b-9549-3f5197b1252f",
   "metadata": {},
   "source": [
    "## (a)"
   ]
  },
  {
   "cell_type": "code",
   "execution_count": 21,
   "id": "2c8c0a0a-6e66-4383-94ae-11b26843a0b2",
   "metadata": {},
   "outputs": [
    {
     "name": "stdout",
     "output_type": "stream",
     "text": [
      "[[1 2 3]\n",
      " [4 5 6]]\n",
      "[-3.5 -0.5  2.5] [[-0.5 -5. ]\n",
      " [ 1.  -4. ]\n",
      " [ 2.   0.5]] [[-2.75 -0.25 -3.75]\n",
      " [-1.5   1.5  -1.5 ]\n",
      " [-0.25  3.25  0.75]]\n",
      "-0.5 -0.5 3.8622100754188224\n"
     ]
    }
   ],
   "source": [
    "array = np.array([[1, -2, 3], [-4, 5, -6]])\n",
    "\n",
    "# i. Absolute\n",
    "abs_val = np.abs(array)\n",
    "\n",
    "# ii. Percentiles\n",
    "flat_percentile = np.percentile(array, [25, 50, 75])\n",
    "row_percentile = np.percentile(array, [25, 50, 75], axis=1)\n",
    "col_percentile = np.percentile(array, [25, 50, 75], axis=0)\n",
    "\n",
    "# iii. Mean, Median, Std\n",
    "mean_flat = np.mean(array)\n",
    "median_flat = np.median(array)\n",
    "std_flat = np.std(array)\n",
    "\n",
    "mean_row = np.mean(array, axis=1)\n",
    "median_row = np.median(array, axis=1)\n",
    "std_row = np.std(array, axis=1)\n",
    "\n",
    "mean_col = np.mean(array, axis=0)\n",
    "median_col = np.median(array, axis=0)\n",
    "std_col = np.std(array, axis=0)\n",
    "\n",
    "print(abs_val)\n",
    "print(flat_percentile, row_percentile, col_percentile)\n",
    "print(mean_flat, median_flat, std_flat)"
   ]
  },
  {
   "cell_type": "markdown",
   "id": "3e865cb3-626e-4b50-bab7-ebd9b9f0b111",
   "metadata": {},
   "source": [
    "## (b)"
   ]
  },
  {
   "cell_type": "code",
   "execution_count": 23,
   "id": "4341fef1-e1df-4269-8a92-522952c5d547",
   "metadata": {},
   "outputs": [
    {
     "name": "stdout",
     "output_type": "stream",
     "text": [
      "[-2. -2. -1.  0.  1.  1.  3.] [-1. -1. -0.  1.  2.  2.  3.] [-1. -1. -0.  0.  1.  1.  3.] [-2. -2. -0.  0.  2.  2.  3.]\n"
     ]
    }
   ],
   "source": [
    "a = np.array([-1.8, -1.6, -0.5, 0.5, 1.6, 1.8, 3.0])\n",
    "\n",
    "floored = np.floor(a)\n",
    "ceiled = np.ceil(a)\n",
    "truncated = np.trunc(a)\n",
    "rounded = np.round(a)\n",
    "\n",
    "print(floored, ceiled, truncated, rounded)"
   ]
  },
  {
   "cell_type": "markdown",
   "id": "3fe80b18-b786-4146-a83a-8912cbcb1020",
   "metadata": {},
   "source": [
    "# Q3: Searching and Sorting"
   ]
  },
  {
   "cell_type": "markdown",
   "id": "f711a3d9-ef85-4cc9-907b-5a6aa352d98c",
   "metadata": {},
   "source": [
    "## (a)"
   ]
  },
  {
   "cell_type": "code",
   "execution_count": 26,
   "id": "e1021fcb-c7a4-4e06-9959-3da3c828b8cf",
   "metadata": {},
   "outputs": [
    {
     "name": "stdout",
     "output_type": "stream",
     "text": [
      "[ 10  16  16  52  54  62 453] [0 3 4 1 5 2 6] [10 16 16 52] [ 16  52  54  62 453]\n"
     ]
    }
   ],
   "source": [
    "array = np.array([10, 52, 62, 16, 16, 54, 453])\n",
    "\n",
    "# i. Sorted\n",
    "sorted_array = np.sort(array)\n",
    "\n",
    "# ii. Indices\n",
    "sorted_indices = np.argsort(array)\n",
    "\n",
    "# iii. 4 smallest\n",
    "smallest = np.sort(array)[:4]\n",
    "\n",
    "# iv. 5 largest\n",
    "largest = np.sort(array)[-5:]\n",
    "\n",
    "print(sorted_array, sorted_indices, smallest, largest)"
   ]
  },
  {
   "cell_type": "markdown",
   "id": "0f5ea194-139d-4ed1-892b-1503833082d8",
   "metadata": {},
   "source": [
    "## (b)"
   ]
  },
  {
   "cell_type": "code",
   "execution_count": 28,
   "id": "fa1163ae-1110-4974-8a5c-6e0b0914c4f7",
   "metadata": {},
   "outputs": [
    {
     "name": "stdout",
     "output_type": "stream",
     "text": [
      "[1. 2. 3. 2.] [1.2 2.2]\n"
     ]
    }
   ],
   "source": [
    "array = np.array([1.0, 1.2, 2.2, 2.0, 3.0, 2.0])\n",
    "\n",
    "# Integer elements\n",
    "int_elements = array[np.floor(array) == array]\n",
    "\n",
    "# Float elements\n",
    "float_elements = array[np.floor(array) != array]\n",
    "\n",
    "print(int_elements, float_elements)"
   ]
  },
  {
   "cell_type": "markdown",
   "id": "b4421c46-ee34-4f00-b9d9-84750d6d448e",
   "metadata": {},
   "source": [
    "# Q4: Image to Array and Save as Text"
   ]
  },
  {
   "cell_type": "markdown",
   "id": "86f0dece-a430-4676-b668-4205a990c075",
   "metadata": {},
   "source": [
    "## (a) Convert image to array and save"
   ]
  },
  {
   "cell_type": "code",
   "execution_count": 31,
   "id": "830b9bb3-4133-40a0-ac1f-31a0b1fc902e",
   "metadata": {},
   "outputs": [
    {
     "name": "stdout",
     "output_type": "stream",
     "text": [
      "Saved as rgb_image.txt\n",
      "Saved as gray_image.txt\n"
     ]
    }
   ],
   "source": [
    "from PIL import Image\n",
    "import numpy as np\n",
    "\n",
    "def img_to_array(path):\n",
    "    img = Image.open(path)\n",
    "    arr = np.array(img)\n",
    "\n",
    "    if len(arr.shape) == 2:\n",
    "        # Grayscale\n",
    "        np.savetxt(\"gray_image.txt\", arr, fmt='%d')\n",
    "        print(\"Saved as gray_image.txt\")\n",
    "    else:\n",
    "        # RGB\n",
    "        reshaped = arr.reshape(-1, arr.shape[2])\n",
    "        np.savetxt(\"rgb_image.txt\", reshaped, fmt='%d')\n",
    "        print(\"Saved as rgb_image.txt\")\n",
    "\n",
    "img_to_array(\"5.jpg\")\n",
    "img_to_array(\"sample_gray.png\")"
   ]
  },
  {
   "cell_type": "markdown",
   "id": "bb84c092-3f12-401f-8bae-0c1ea1a85856",
   "metadata": {},
   "source": [
    "## (b) Load the saved file"
   ]
  },
  {
   "cell_type": "code",
   "execution_count": 33,
   "id": "6bbdf617-2170-49b5-9749-0d972c6a3437",
   "metadata": {},
   "outputs": [],
   "source": [
    "# For grayscale\n",
    "gray_arr = np.loadtxt(\"gray_image.txt\", dtype=int)\n",
    "\n",
    "# For RGB (reshape if needed)\n",
    "rgb_arr = np.loadtxt(\"rgb_image.txt\", dtype=int)"
   ]
  },
  {
   "cell_type": "code",
   "execution_count": null,
   "id": "8f240dd6-2f58-44f6-b504-a38f642ff111",
   "metadata": {},
   "outputs": [],
   "source": []
  }
 ],
 "metadata": {
  "kernelspec": {
   "display_name": "Python 3 (ipykernel)",
   "language": "python",
   "name": "python3"
  },
  "language_info": {
   "codemirror_mode": {
    "name": "ipython",
    "version": 3
   },
   "file_extension": ".py",
   "mimetype": "text/x-python",
   "name": "python",
   "nbconvert_exporter": "python",
   "pygments_lexer": "ipython3",
   "version": "3.12.7"
  }
 },
 "nbformat": 4,
 "nbformat_minor": 5
}
